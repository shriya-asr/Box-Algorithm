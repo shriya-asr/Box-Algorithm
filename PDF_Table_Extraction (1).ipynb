{
  "nbformat": 4,
  "nbformat_minor": 0,
  "metadata": {
    "colab": {
      "provenance": []
    },
    "kernelspec": {
      "name": "python3",
      "display_name": "Python 3"
    },
    "language_info": {
      "name": "python"
    }
  },
  "cells": [
    {
      "cell_type": "code",
      "execution_count": null,
      "metadata": {
        "id": "NhbHFtRilPK_"
      },
      "outputs": [],
      "source": [
        "!pip install pymupdf\n",
        "import fitz\n",
        "import cv2\n",
        "import os\n",
        "import matplotlib.pyplot as plt\n",
        "import numpy as np\n",
        "import pandas as pd"
      ]
    },
    {
      "cell_type": "code",
      "source": [
        "def extractpages(pdf,out):\n",
        "  os.makedirs(out, exist_ok=True)\n",
        "\n",
        "  # Open the PDF file\n",
        "  pdf_document = fitz.open(pdf)\n",
        "\n",
        "  for i in range(len(pdf_document)):\n",
        "      page = pdf_document.load_page(i)\n",
        "      pix = page.get_pixmap()\n",
        "      # Save the image to a file\n",
        "      image_path = \"page_image.png\"\n",
        "      pix = page.get_pixmap()\n",
        "\n",
        "      # Save the image to a file\n",
        "      image_path = f\"{out}/page_{i}.png\"\n",
        "      pix.save(image_path)\n",
        "\n",
        "\n",
        "pdf=\"/content/pdf.pdf\"\n",
        "out=\"INPUT\"\n",
        "extractpages(pdf,out)"
      ],
      "metadata": {
        "id": "m2zQGEMNlSes"
      },
      "execution_count": null,
      "outputs": []
    },
    {
      "cell_type": "code",
      "source": [
        "imgpath=\"/content/INPUT/page_0.png\"  #replace with path of the image\n",
        "img=cv2.imread(imgpath,0)\n",
        "plt.imshow(img,cmap=\"gray\")\n",
        "img =cv2.adaptiveThreshold(img, 255, cv2.ADAPTIVE_THRESH_MEAN_C, cv2.THRESH_BINARY_INV, 11, 2)\n",
        "print(img.shape)\n"
      ],
      "metadata": {
        "id": "zp3lNf5EoxEq"
      },
      "execution_count": null,
      "outputs": []
    },
    {
      "cell_type": "code",
      "source": [
        "# Defining a kernel length\n",
        "kernel_length = np.array(img).shape[1]//40   #vary the kernel according to requirement\n",
        "kernel = cv2.getStructuringElement(cv2.MORPH_RECT, (3, 3))\n",
        "\n",
        "#obtain the vertical lines present in an image\n",
        "vertical_kernel = cv2.getStructuringElement(cv2.MORPH_RECT, (1, kernel_length))\n",
        "img_temp1 = cv2.erode(img, vertical_kernel, iterations=3)\n",
        "vertical_lines_img = cv2.dilate(img_temp1, vertical_kernel, iterations=3)\n",
        "cv2.imwrite(\"vertical_lines.jpg\",vertical_lines_img)\n",
        "\n",
        "#obtain the horizontal lines present in an image\n",
        "hori_kernel = cv2.getStructuringElement(cv2.MORPH_RECT, (kernel_length, 1))\n",
        "img_temp2 = cv2.erode(img, hori_kernel, iterations=3)\n",
        "horizontal_lines_img = cv2.dilate(img_temp2, hori_kernel, iterations=3)\n",
        "cv2.imwrite(\"horizontal_lines.jpg\",horizontal_lines_img)"
      ],
      "metadata": {
        "id": "GupRP7BOrfel"
      },
      "execution_count": null,
      "outputs": []
    },
    {
      "cell_type": "code",
      "source": [
        "# Weighting parameters, this will decide the quantity of an image to be added to make a new image.\n",
        "alpha = 0.5\n",
        "beta = 1.0 - alpha\n",
        "\n",
        "# This function is used to add the vertical lines and horizontal lines to get a third image\n",
        "img_bin = cv2.addWeighted(vertical_lines_img, alpha, horizontal_lines_img, beta, 0.0)\n",
        "img_bin = cv2.erode(~img_bin, kernel, iterations=2)\n",
        "(thresh, img_bin) = cv2.threshold(img_bin, 128,255, cv2.THRESH_BINARY | cv2.THRESH_OTSU)\n",
        "cv2.imwrite(\"img_bin.jpg\",img_bin)"
      ],
      "metadata": {
        "id": "VkUOp8gkhmed"
      },
      "execution_count": null,
      "outputs": []
    },
    {
      "cell_type": "code",
      "source": [
        "img_bin_tresh = cv2.adaptiveThreshold(img_bin, 255, cv2.ADAPTIVE_THRESH_MEAN_C, cv2.THRESH_BINARY_INV, 11, 2)\n",
        "\n",
        "# Detect contours\n",
        "contours, _ = cv2.findContours(img_bin_tresh, cv2.RETR_EXTERNAL, cv2.CHAIN_APPROX_SIMPLE)\n",
        "\n",
        "#sort the contours\n",
        "contours = sorted(contours, key=lambda ctr: cv2.boundingRect(ctr)[1])\n",
        "\n",
        "\n",
        "table_coordinates = []\n",
        "for contour in contours:\n",
        "    x, y, w, h = cv2.boundingRect(contour)\n",
        "    if w>50 and h>50: # adjust the ranges accordingly to get the required table coordinates\n",
        "          table_coordinates.append([x, y+20, w, h-25]) #20 is added to remove the heading of the last column\n",
        "          cv2.rectangle(img_bin, (x, y+20), (x + w, y + h), (255, 255, 0), 2)\n",
        "\n",
        "# Save or display the image with rectangles\n",
        "output_path = '/content/table_image.png'\n",
        "cv2.imwrite(output_path, img_bin)\n",
        "\n",
        "# Display coordinates\n",
        "x, y, w, h = table_coordinates[0]\n",
        "img_cropped = img[y:y+h, x:x+w]\n",
        "print(table_coordinates)\n",
        "plt.imshow(img_cropped,cmap=\"gray\")"
      ],
      "metadata": {
        "id": "dbfh-RH-EdNw",
        "collapsed": true
      },
      "execution_count": null,
      "outputs": []
    },
    {
      "cell_type": "code",
      "source": [
        "\n",
        "contours, _ = cv2.findContours(vertical_lines_img, cv2.RETR_EXTERNAL, cv2.CHAIN_APPROX_SIMPLE)\n",
        "\n",
        "\n",
        "vertical_lines_coordinates = []\n",
        "\n",
        "for contour in contours:\n",
        "    x, y, w, h = cv2.boundingRect(contour)\n",
        "    if h>400: # adjust the values to get the required vertical line\n",
        "      vertical_lines_coordinates.append([x,y,w,h])\n",
        "\n",
        "vertical_lines_coordinates.sort()\n",
        "print(\"Vertical Lines Coordinates:\", vertical_lines_coordinates)\n",
        "\n",
        "coordinates=[]\n",
        "\n",
        "#to detect the last column of the give table\n",
        "\n",
        "\n",
        "if len(vertical_lines_coordinates) >= 2:\n",
        "    x1,y,w,h=table_coordinates[0]\n",
        "    x2=vertical_lines_coordinates[1][0]\n",
        "    img2=img[y:y+h,x2:x1+w]\n",
        "    coordinates=[(x2,y),(x2,y+h),(x1+w,y+h),(x1+w,y)]\n",
        "    print(\"the coordinates are \")\n",
        "    print(coordinates)\n",
        "\n",
        "    cv2.imwrite(\"imgfinal.jpg\", img2)\n",
        "    plt.imshow(img2,cmap=\"gray\")\n",
        "    print(img2.size)\n",
        "    print(img2.shape)\n",
        "else:\n",
        "    print(\"Not enough vertical lines detected to perform the image slicing.\")\n"
      ],
      "metadata": {
        "id": "yNpxN78EhIgs",
        "collapsed": true
      },
      "execution_count": null,
      "outputs": []
    },
    {
      "cell_type": "code",
      "source": [],
      "metadata": {
        "id": "iZIwHurViodr"
      },
      "execution_count": null,
      "outputs": []
    },
    {
      "cell_type": "code",
      "source": [],
      "metadata": {
        "id": "gYVlRI0Wioa7"
      },
      "execution_count": null,
      "outputs": []
    },
    {
      "cell_type": "code",
      "source": [],
      "metadata": {
        "id": "QpfSrH3OioVT"
      },
      "execution_count": null,
      "outputs": []
    },
    {
      "cell_type": "code",
      "source": [],
      "metadata": {
        "id": "j4Qa2aUsioSt"
      },
      "execution_count": null,
      "outputs": []
    },
    {
      "cell_type": "code",
      "source": [],
      "metadata": {
        "id": "a3LvAgYLjKv7"
      },
      "execution_count": null,
      "outputs": []
    }
  ]
}